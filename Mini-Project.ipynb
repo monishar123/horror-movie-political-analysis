{
 "cells": [
  {
   "cell_type": "markdown",
   "metadata": {},
   "source": [
    "Mini-Project for DSE200x"
   ]
  },
  {
   "cell_type": "code",
   "execution_count": 1,
   "metadata": {},
   "outputs": [],
   "source": [
    "import pandas as pd"
   ]
  },
  {
   "cell_type": "code",
   "execution_count": 2,
   "metadata": {},
   "outputs": [],
   "source": [
    "movies = pd.read_csv('/movielens/movies.csv', sep=',')"
   ]
  },
  {
   "cell_type": "code",
   "execution_count": 3,
   "metadata": {},
   "outputs": [
    {
     "data": {
      "text/html": [
       "<div>\n",
       "<style scoped>\n",
       "    .dataframe tbody tr th:only-of-type {\n",
       "        vertical-align: middle;\n",
       "    }\n",
       "\n",
       "    .dataframe tbody tr th {\n",
       "        vertical-align: top;\n",
       "    }\n",
       "\n",
       "    .dataframe thead th {\n",
       "        text-align: right;\n",
       "    }\n",
       "</style>\n",
       "<table border=\"1\" class=\"dataframe\">\n",
       "  <thead>\n",
       "    <tr style=\"text-align: right;\">\n",
       "      <th></th>\n",
       "      <th>movieId</th>\n",
       "      <th>title</th>\n",
       "      <th>genres</th>\n",
       "    </tr>\n",
       "  </thead>\n",
       "  <tbody>\n",
       "    <tr>\n",
       "      <th>0</th>\n",
       "      <td>1</td>\n",
       "      <td>Toy Story (1995)</td>\n",
       "      <td>Adventure|Animation|Children|Comedy|Fantasy</td>\n",
       "    </tr>\n",
       "    <tr>\n",
       "      <th>1</th>\n",
       "      <td>2</td>\n",
       "      <td>Jumanji (1995)</td>\n",
       "      <td>Adventure|Children|Fantasy</td>\n",
       "    </tr>\n",
       "    <tr>\n",
       "      <th>2</th>\n",
       "      <td>3</td>\n",
       "      <td>Grumpier Old Men (1995)</td>\n",
       "      <td>Comedy|Romance</td>\n",
       "    </tr>\n",
       "    <tr>\n",
       "      <th>3</th>\n",
       "      <td>4</td>\n",
       "      <td>Waiting to Exhale (1995)</td>\n",
       "      <td>Comedy|Drama|Romance</td>\n",
       "    </tr>\n",
       "    <tr>\n",
       "      <th>4</th>\n",
       "      <td>5</td>\n",
       "      <td>Father of the Bride Part II (1995)</td>\n",
       "      <td>Comedy</td>\n",
       "    </tr>\n",
       "  </tbody>\n",
       "</table>\n",
       "</div>"
      ],
      "text/plain": [
       "   movieId                               title  \\\n",
       "0        1                    Toy Story (1995)   \n",
       "1        2                      Jumanji (1995)   \n",
       "2        3             Grumpier Old Men (1995)   \n",
       "3        4            Waiting to Exhale (1995)   \n",
       "4        5  Father of the Bride Part II (1995)   \n",
       "\n",
       "                                        genres  \n",
       "0  Adventure|Animation|Children|Comedy|Fantasy  \n",
       "1                   Adventure|Children|Fantasy  \n",
       "2                               Comedy|Romance  \n",
       "3                         Comedy|Drama|Romance  \n",
       "4                                       Comedy  "
      ]
     },
     "execution_count": 3,
     "metadata": {},
     "output_type": "execute_result"
    }
   ],
   "source": [
    "movies.head()"
   ]
  },
  {
   "cell_type": "code",
   "execution_count": 4,
   "metadata": {},
   "outputs": [
    {
     "name": "stdout",
     "output_type": "stream",
     "text": [
      "Error percentage: 0.641 %\n"
     ]
    },
    {
     "data": {
      "text/html": [
       "<div>\n",
       "<style scoped>\n",
       "    .dataframe tbody tr th:only-of-type {\n",
       "        vertical-align: middle;\n",
       "    }\n",
       "\n",
       "    .dataframe tbody tr th {\n",
       "        vertical-align: top;\n",
       "    }\n",
       "\n",
       "    .dataframe thead th {\n",
       "        text-align: right;\n",
       "    }\n",
       "</style>\n",
       "<table border=\"1\" class=\"dataframe\">\n",
       "  <thead>\n",
       "    <tr style=\"text-align: right;\">\n",
       "      <th></th>\n",
       "      <th>movieId</th>\n",
       "      <th>title</th>\n",
       "      <th>genres</th>\n",
       "      <th>year</th>\n",
       "    </tr>\n",
       "  </thead>\n",
       "  <tbody>\n",
       "    <tr>\n",
       "      <th>0</th>\n",
       "      <td>1</td>\n",
       "      <td>Toy Story (1995)</td>\n",
       "      <td>Adventure|Animation|Children|Comedy|Fantasy</td>\n",
       "      <td>1995</td>\n",
       "    </tr>\n",
       "    <tr>\n",
       "      <th>1</th>\n",
       "      <td>2</td>\n",
       "      <td>Jumanji (1995)</td>\n",
       "      <td>Adventure|Children|Fantasy</td>\n",
       "      <td>1995</td>\n",
       "    </tr>\n",
       "    <tr>\n",
       "      <th>2</th>\n",
       "      <td>3</td>\n",
       "      <td>Grumpier Old Men (1995)</td>\n",
       "      <td>Comedy|Romance</td>\n",
       "      <td>1995</td>\n",
       "    </tr>\n",
       "    <tr>\n",
       "      <th>3</th>\n",
       "      <td>4</td>\n",
       "      <td>Waiting to Exhale (1995)</td>\n",
       "      <td>Comedy|Drama|Romance</td>\n",
       "      <td>1995</td>\n",
       "    </tr>\n",
       "    <tr>\n",
       "      <th>4</th>\n",
       "      <td>5</td>\n",
       "      <td>Father of the Bride Part II (1995)</td>\n",
       "      <td>Comedy</td>\n",
       "      <td>1995</td>\n",
       "    </tr>\n",
       "  </tbody>\n",
       "</table>\n",
       "</div>"
      ],
      "text/plain": [
       "   movieId                               title  \\\n",
       "0        1                    Toy Story (1995)   \n",
       "1        2                      Jumanji (1995)   \n",
       "2        3             Grumpier Old Men (1995)   \n",
       "3        4            Waiting to Exhale (1995)   \n",
       "4        5  Father of the Bride Part II (1995)   \n",
       "\n",
       "                                        genres  year  \n",
       "0  Adventure|Animation|Children|Comedy|Fantasy  1995  \n",
       "1                   Adventure|Children|Fantasy  1995  \n",
       "2                               Comedy|Romance  1995  \n",
       "3                         Comedy|Drama|Romance  1995  \n",
       "4                                       Comedy  1995  "
      ]
     },
     "execution_count": 4,
     "metadata": {},
     "output_type": "execute_result"
    }
   ],
   "source": [
    "import string \n",
    "\n",
    "years = [] #list of years as ints\n",
    "error = 0\n",
    "\n",
    "for e in range(len(movies.title)):\n",
    "    try:\n",
    "        years.append(int(movies.title[e].split()[-1].strip(\"()\" + string.ascii_letters)))\n",
    "    except:\n",
    "        years.append(0)\n",
    "        error += 1\n",
    "        \n",
    "print(\"Error percentage: \" + str(round(error/len(movies.title) * 100, 3)) + \" %\")\n",
    "movies[\"year\"] = years\n",
    "\n",
    "movies.head()"
   ]
  },
  {
   "cell_type": "code",
   "execution_count": 25,
   "metadata": {},
   "outputs": [],
   "source": [
    "is_horror = movies['genres'].str.contains('Horror')\n",
    "horror = movies[is_horror].copy()"
   ]
  },
  {
   "cell_type": "code",
   "execution_count": 26,
   "metadata": {},
   "outputs": [
    {
     "data": {
      "text/html": [
       "<div>\n",
       "<style scoped>\n",
       "    .dataframe tbody tr th:only-of-type {\n",
       "        vertical-align: middle;\n",
       "    }\n",
       "\n",
       "    .dataframe tbody tr th {\n",
       "        vertical-align: top;\n",
       "    }\n",
       "\n",
       "    .dataframe thead th {\n",
       "        text-align: right;\n",
       "    }\n",
       "</style>\n",
       "<table border=\"1\" class=\"dataframe\">\n",
       "  <thead>\n",
       "    <tr style=\"text-align: right;\">\n",
       "      <th></th>\n",
       "      <th>movieId</th>\n",
       "      <th>title</th>\n",
       "      <th>genres</th>\n",
       "      <th>year</th>\n",
       "    </tr>\n",
       "  </thead>\n",
       "  <tbody>\n",
       "    <tr>\n",
       "      <th>11</th>\n",
       "      <td>12</td>\n",
       "      <td>Dracula: Dead and Loving It (1995)</td>\n",
       "      <td>Comedy|Horror</td>\n",
       "      <td>1995</td>\n",
       "    </tr>\n",
       "    <tr>\n",
       "      <th>21</th>\n",
       "      <td>22</td>\n",
       "      <td>Copycat (1995)</td>\n",
       "      <td>Crime|Drama|Horror|Mystery|Thriller</td>\n",
       "      <td>1995</td>\n",
       "    </tr>\n",
       "    <tr>\n",
       "      <th>69</th>\n",
       "      <td>70</td>\n",
       "      <td>From Dusk Till Dawn (1996)</td>\n",
       "      <td>Action|Comedy|Horror|Thriller</td>\n",
       "      <td>1996</td>\n",
       "    </tr>\n",
       "    <tr>\n",
       "      <th>90</th>\n",
       "      <td>92</td>\n",
       "      <td>Mary Reilly (1996)</td>\n",
       "      <td>Drama|Horror|Thriller</td>\n",
       "      <td>1996</td>\n",
       "    </tr>\n",
       "    <tr>\n",
       "      <th>91</th>\n",
       "      <td>93</td>\n",
       "      <td>Vampire in Brooklyn (1995)</td>\n",
       "      <td>Comedy|Horror|Romance</td>\n",
       "      <td>1995</td>\n",
       "    </tr>\n",
       "  </tbody>\n",
       "</table>\n",
       "</div>"
      ],
      "text/plain": [
       "    movieId                               title  \\\n",
       "11       12  Dracula: Dead and Loving It (1995)   \n",
       "21       22                      Copycat (1995)   \n",
       "69       70          From Dusk Till Dawn (1996)   \n",
       "90       92                  Mary Reilly (1996)   \n",
       "91       93          Vampire in Brooklyn (1995)   \n",
       "\n",
       "                                 genres  year  \n",
       "11                        Comedy|Horror  1995  \n",
       "21  Crime|Drama|Horror|Mystery|Thriller  1995  \n",
       "69        Action|Comedy|Horror|Thriller  1996  \n",
       "90                Drama|Horror|Thriller  1996  \n",
       "91                Comedy|Horror|Romance  1995  "
      ]
     },
     "execution_count": 26,
     "metadata": {},
     "output_type": "execute_result"
    }
   ],
   "source": [
    "horror.head()"
   ]
  },
  {
   "cell_type": "code",
   "execution_count": 27,
   "metadata": {},
   "outputs": [
    {
     "data": {
      "text/html": [
       "<div>\n",
       "<style scoped>\n",
       "    .dataframe tbody tr th:only-of-type {\n",
       "        vertical-align: middle;\n",
       "    }\n",
       "\n",
       "    .dataframe tbody tr th {\n",
       "        vertical-align: top;\n",
       "    }\n",
       "\n",
       "    .dataframe thead th {\n",
       "        text-align: right;\n",
       "    }\n",
       "</style>\n",
       "<table border=\"1\" class=\"dataframe\">\n",
       "  <thead>\n",
       "    <tr style=\"text-align: right;\">\n",
       "      <th></th>\n",
       "      <th>movieId</th>\n",
       "      <th>title</th>\n",
       "      <th>genres</th>\n",
       "      <th>year</th>\n",
       "    </tr>\n",
       "  </thead>\n",
       "  <tbody>\n",
       "    <tr>\n",
       "      <th>30443</th>\n",
       "      <td>136299</td>\n",
       "      <td>Red Victoria</td>\n",
       "      <td>Comedy|Horror</td>\n",
       "      <td>0</td>\n",
       "    </tr>\n",
       "    <tr>\n",
       "      <th>32880</th>\n",
       "      <td>141930</td>\n",
       "      <td>KillerSaurus</td>\n",
       "      <td>Horror|Sci-Fi</td>\n",
       "      <td>0</td>\n",
       "    </tr>\n",
       "    <tr>\n",
       "      <th>43315</th>\n",
       "      <td>165747</td>\n",
       "      <td>Exchange</td>\n",
       "      <td>Horror</td>\n",
       "      <td>0</td>\n",
       "    </tr>\n",
       "    <tr>\n",
       "      <th>48511</th>\n",
       "      <td>176803</td>\n",
       "      <td>What the Waters Left Behind</td>\n",
       "      <td>Horror</td>\n",
       "      <td>0</td>\n",
       "    </tr>\n",
       "    <tr>\n",
       "      <th>49647</th>\n",
       "      <td>179317</td>\n",
       "      <td>Clementina</td>\n",
       "      <td>Drama|Horror</td>\n",
       "      <td>0</td>\n",
       "    </tr>\n",
       "    <tr>\n",
       "      <th>50187</th>\n",
       "      <td>180455</td>\n",
       "      <td>The End?</td>\n",
       "      <td>Horror</td>\n",
       "      <td>0</td>\n",
       "    </tr>\n",
       "    <tr>\n",
       "      <th>50189</th>\n",
       "      <td>180461</td>\n",
       "      <td>3rd Night</td>\n",
       "      <td>Horror</td>\n",
       "      <td>0</td>\n",
       "    </tr>\n",
       "    <tr>\n",
       "      <th>50230</th>\n",
       "      <td>180553</td>\n",
       "      <td>Trauma</td>\n",
       "      <td>Horror</td>\n",
       "      <td>0</td>\n",
       "    </tr>\n",
       "    <tr>\n",
       "      <th>50732</th>\n",
       "      <td>181669</td>\n",
       "      <td>Inoperable</td>\n",
       "      <td>Horror</td>\n",
       "      <td>0</td>\n",
       "    </tr>\n",
       "    <tr>\n",
       "      <th>52163</th>\n",
       "      <td>184703</td>\n",
       "      <td>The Body Tree</td>\n",
       "      <td>Horror|Thriller</td>\n",
       "      <td>0</td>\n",
       "    </tr>\n",
       "    <tr>\n",
       "      <th>53937</th>\n",
       "      <td>188451</td>\n",
       "      <td>Witch-Hunt</td>\n",
       "      <td>Horror|Mystery|Thriller</td>\n",
       "      <td>0</td>\n",
       "    </tr>\n",
       "    <tr>\n",
       "      <th>54940</th>\n",
       "      <td>190747</td>\n",
       "      <td>Mara</td>\n",
       "      <td>Crime|Horror|Thriller</td>\n",
       "      <td>0</td>\n",
       "    </tr>\n",
       "    <tr>\n",
       "      <th>55023</th>\n",
       "      <td>190937</td>\n",
       "      <td>Tell Me Your Name</td>\n",
       "      <td>Horror|Thriller</td>\n",
       "      <td>0</td>\n",
       "    </tr>\n",
       "    <tr>\n",
       "      <th>61002</th>\n",
       "      <td>204692</td>\n",
       "      <td>In the Tall Grass</td>\n",
       "      <td>Drama|Horror|Thriller</td>\n",
       "      <td>0</td>\n",
       "    </tr>\n",
       "    <tr>\n",
       "      <th>61027</th>\n",
       "      <td>204770</td>\n",
       "      <td>1013 Briar Lane</td>\n",
       "      <td>Horror</td>\n",
       "      <td>0</td>\n",
       "    </tr>\n",
       "    <tr>\n",
       "      <th>61549</th>\n",
       "      <td>206198</td>\n",
       "      <td>The Night Bulletin</td>\n",
       "      <td>Horror|Thriller</td>\n",
       "      <td>0</td>\n",
       "    </tr>\n",
       "    <tr>\n",
       "      <th>61868</th>\n",
       "      <td>207135</td>\n",
       "      <td>The Evil Inside</td>\n",
       "      <td>Drama|Horror</td>\n",
       "      <td>0</td>\n",
       "    </tr>\n",
       "  </tbody>\n",
       "</table>\n",
       "</div>"
      ],
      "text/plain": [
       "       movieId                        title                   genres  year\n",
       "30443   136299                 Red Victoria            Comedy|Horror     0\n",
       "32880   141930                 KillerSaurus            Horror|Sci-Fi     0\n",
       "43315   165747                     Exchange                   Horror     0\n",
       "48511   176803  What the Waters Left Behind                   Horror     0\n",
       "49647   179317                   Clementina             Drama|Horror     0\n",
       "50187   180455                     The End?                   Horror     0\n",
       "50189   180461                    3rd Night                   Horror     0\n",
       "50230   180553                       Trauma                   Horror     0\n",
       "50732   181669                   Inoperable                   Horror     0\n",
       "52163   184703                The Body Tree          Horror|Thriller     0\n",
       "53937   188451                   Witch-Hunt  Horror|Mystery|Thriller     0\n",
       "54940   190747                         Mara    Crime|Horror|Thriller     0\n",
       "55023   190937            Tell Me Your Name          Horror|Thriller     0\n",
       "61002   204692            In the Tall Grass    Drama|Horror|Thriller     0\n",
       "61027   204770              1013 Briar Lane                   Horror     0\n",
       "61549   206198           The Night Bulletin          Horror|Thriller     0\n",
       "61868   207135              The Evil Inside             Drama|Horror     0"
      ]
     },
     "execution_count": 27,
     "metadata": {},
     "output_type": "execute_result"
    }
   ],
   "source": [
    "missing_year = horror['year'] == 0\n",
    "horror[missing_year]"
   ]
  },
  {
   "cell_type": "code",
   "execution_count": 28,
   "metadata": {},
   "outputs": [],
   "source": [
    "horror.loc[30443, ['year']] = 2008\n",
    "horror.loc[32880, ['year']] = 2015\n",
    "horror.loc[43315, ['year']] = 2016\n",
    "horror.loc[48511, ['year']] = 2017\n",
    "horror.loc[49647, ['year']] = 2017\n",
    "horror.loc[50187, ['year']] = 2017\n",
    "horror.loc[50189, ['year']] = 2017\n",
    "horror.loc[50230, ['year']] = 2017\n",
    "horror.loc[50732, ['year']] = 2017\n",
    "horror.loc[52163, ['year']] = 2017\n",
    "horror.loc[53937, ['year']] = 2017\n",
    "horror.loc[54940, ['year']] = 2018\n",
    "horror.loc[55023, ['year']] = 2018\n",
    "horror.loc[61002, ['year']] = 2019\n",
    "horror.loc[61027, ['year']] = 2009\n",
    "horror.loc[61549, ['year']] = 2018\n",
    "horror.loc[61868, ['year']] = 2017"
   ]
  },
  {
   "cell_type": "code",
   "execution_count": 10,
   "metadata": {},
   "outputs": [
    {
     "data": {
      "text/html": [
       "<div>\n",
       "<style scoped>\n",
       "    .dataframe tbody tr th:only-of-type {\n",
       "        vertical-align: middle;\n",
       "    }\n",
       "\n",
       "    .dataframe tbody tr th {\n",
       "        vertical-align: top;\n",
       "    }\n",
       "\n",
       "    .dataframe thead th {\n",
       "        text-align: right;\n",
       "    }\n",
       "</style>\n",
       "<table border=\"1\" class=\"dataframe\">\n",
       "  <thead>\n",
       "    <tr style=\"text-align: right;\">\n",
       "      <th></th>\n",
       "      <th>movieId</th>\n",
       "      <th>title</th>\n",
       "      <th>genres</th>\n",
       "      <th>year</th>\n",
       "    </tr>\n",
       "  </thead>\n",
       "  <tbody>\n",
       "    <tr>\n",
       "      <th>30443</th>\n",
       "      <td>136299</td>\n",
       "      <td>Red Victoria</td>\n",
       "      <td>Comedy|Horror</td>\n",
       "      <td>2008</td>\n",
       "    </tr>\n",
       "    <tr>\n",
       "      <th>32880</th>\n",
       "      <td>141930</td>\n",
       "      <td>KillerSaurus</td>\n",
       "      <td>Horror|Sci-Fi</td>\n",
       "      <td>2015</td>\n",
       "    </tr>\n",
       "    <tr>\n",
       "      <th>43315</th>\n",
       "      <td>165747</td>\n",
       "      <td>Exchange</td>\n",
       "      <td>Horror</td>\n",
       "      <td>2016</td>\n",
       "    </tr>\n",
       "    <tr>\n",
       "      <th>48511</th>\n",
       "      <td>176803</td>\n",
       "      <td>What the Waters Left Behind</td>\n",
       "      <td>Horror</td>\n",
       "      <td>2017</td>\n",
       "    </tr>\n",
       "    <tr>\n",
       "      <th>49647</th>\n",
       "      <td>179317</td>\n",
       "      <td>Clementina</td>\n",
       "      <td>Drama|Horror</td>\n",
       "      <td>2017</td>\n",
       "    </tr>\n",
       "    <tr>\n",
       "      <th>50187</th>\n",
       "      <td>180455</td>\n",
       "      <td>The End?</td>\n",
       "      <td>Horror</td>\n",
       "      <td>2017</td>\n",
       "    </tr>\n",
       "    <tr>\n",
       "      <th>50189</th>\n",
       "      <td>180461</td>\n",
       "      <td>3rd Night</td>\n",
       "      <td>Horror</td>\n",
       "      <td>2017</td>\n",
       "    </tr>\n",
       "    <tr>\n",
       "      <th>50230</th>\n",
       "      <td>180553</td>\n",
       "      <td>Trauma</td>\n",
       "      <td>Horror</td>\n",
       "      <td>2017</td>\n",
       "    </tr>\n",
       "    <tr>\n",
       "      <th>50732</th>\n",
       "      <td>181669</td>\n",
       "      <td>Inoperable</td>\n",
       "      <td>Horror</td>\n",
       "      <td>2017</td>\n",
       "    </tr>\n",
       "    <tr>\n",
       "      <th>52163</th>\n",
       "      <td>184703</td>\n",
       "      <td>The Body Tree</td>\n",
       "      <td>Horror|Thriller</td>\n",
       "      <td>2017</td>\n",
       "    </tr>\n",
       "    <tr>\n",
       "      <th>53937</th>\n",
       "      <td>188451</td>\n",
       "      <td>Witch-Hunt</td>\n",
       "      <td>Horror|Mystery|Thriller</td>\n",
       "      <td>2017</td>\n",
       "    </tr>\n",
       "    <tr>\n",
       "      <th>54940</th>\n",
       "      <td>190747</td>\n",
       "      <td>Mara</td>\n",
       "      <td>Crime|Horror|Thriller</td>\n",
       "      <td>2018</td>\n",
       "    </tr>\n",
       "    <tr>\n",
       "      <th>55023</th>\n",
       "      <td>190937</td>\n",
       "      <td>Tell Me Your Name</td>\n",
       "      <td>Horror|Thriller</td>\n",
       "      <td>2018</td>\n",
       "    </tr>\n",
       "    <tr>\n",
       "      <th>61002</th>\n",
       "      <td>204692</td>\n",
       "      <td>In the Tall Grass</td>\n",
       "      <td>Drama|Horror|Thriller</td>\n",
       "      <td>2019</td>\n",
       "    </tr>\n",
       "    <tr>\n",
       "      <th>61027</th>\n",
       "      <td>204770</td>\n",
       "      <td>1013 Briar Lane</td>\n",
       "      <td>Horror</td>\n",
       "      <td>2009</td>\n",
       "    </tr>\n",
       "    <tr>\n",
       "      <th>61549</th>\n",
       "      <td>206198</td>\n",
       "      <td>The Night Bulletin</td>\n",
       "      <td>Horror|Thriller</td>\n",
       "      <td>2018</td>\n",
       "    </tr>\n",
       "    <tr>\n",
       "      <th>61868</th>\n",
       "      <td>207135</td>\n",
       "      <td>The Evil Inside</td>\n",
       "      <td>Drama|Horror</td>\n",
       "      <td>2017</td>\n",
       "    </tr>\n",
       "  </tbody>\n",
       "</table>\n",
       "</div>"
      ],
      "text/plain": [
       "       movieId                        title                   genres  year\n",
       "30443   136299                 Red Victoria            Comedy|Horror  2008\n",
       "32880   141930                 KillerSaurus            Horror|Sci-Fi  2015\n",
       "43315   165747                     Exchange                   Horror  2016\n",
       "48511   176803  What the Waters Left Behind                   Horror  2017\n",
       "49647   179317                   Clementina             Drama|Horror  2017\n",
       "50187   180455                     The End?                   Horror  2017\n",
       "50189   180461                    3rd Night                   Horror  2017\n",
       "50230   180553                       Trauma                   Horror  2017\n",
       "50732   181669                   Inoperable                   Horror  2017\n",
       "52163   184703                The Body Tree          Horror|Thriller  2017\n",
       "53937   188451                   Witch-Hunt  Horror|Mystery|Thriller  2017\n",
       "54940   190747                         Mara    Crime|Horror|Thriller  2018\n",
       "55023   190937            Tell Me Your Name          Horror|Thriller  2018\n",
       "61002   204692            In the Tall Grass    Drama|Horror|Thriller  2019\n",
       "61027   204770              1013 Briar Lane                   Horror  2009\n",
       "61549   206198           The Night Bulletin          Horror|Thriller  2018\n",
       "61868   207135              The Evil Inside             Drama|Horror  2017"
      ]
     },
     "execution_count": 10,
     "metadata": {},
     "output_type": "execute_result"
    }
   ],
   "source": [
    "horror[missing_year]"
   ]
  },
  {
   "cell_type": "code",
   "execution_count": 29,
   "metadata": {},
   "outputs": [
    {
     "data": {
      "text/html": [
       "<div>\n",
       "<style scoped>\n",
       "    .dataframe tbody tr th:only-of-type {\n",
       "        vertical-align: middle;\n",
       "    }\n",
       "\n",
       "    .dataframe tbody tr th {\n",
       "        vertical-align: top;\n",
       "    }\n",
       "\n",
       "    .dataframe thead th {\n",
       "        text-align: right;\n",
       "    }\n",
       "</style>\n",
       "<table border=\"1\" class=\"dataframe\">\n",
       "  <thead>\n",
       "    <tr style=\"text-align: right;\">\n",
       "      <th></th>\n",
       "      <th>movieId</th>\n",
       "      <th>title</th>\n",
       "      <th>genres</th>\n",
       "      <th>year</th>\n",
       "    </tr>\n",
       "  </thead>\n",
       "  <tbody>\n",
       "    <tr>\n",
       "      <th>27843</th>\n",
       "      <td>130322</td>\n",
       "      <td>Zone 261</td>\n",
       "      <td>Horror</td>\n",
       "      <td>261</td>\n",
       "    </tr>\n",
       "    <tr>\n",
       "      <th>43154</th>\n",
       "      <td>165397</td>\n",
       "      <td>Cinderella (1899)</td>\n",
       "      <td>Children|Fantasy|Horror|Sci-Fi</td>\n",
       "      <td>1899</td>\n",
       "    </tr>\n",
       "    <tr>\n",
       "      <th>45958</th>\n",
       "      <td>171465</td>\n",
       "      <td>The Haunted Castle (1896)</td>\n",
       "      <td>Fantasy|Horror</td>\n",
       "      <td>1896</td>\n",
       "    </tr>\n",
       "    <tr>\n",
       "      <th>47158</th>\n",
       "      <td>173921</td>\n",
       "      <td>A Terrible Night (1896)</td>\n",
       "      <td>Comedy|Horror</td>\n",
       "      <td>1896</td>\n",
       "    </tr>\n",
       "    <tr>\n",
       "      <th>47185</th>\n",
       "      <td>173979</td>\n",
       "      <td>A Nightmare (1896)</td>\n",
       "      <td>Horror</td>\n",
       "      <td>1896</td>\n",
       "    </tr>\n",
       "    <tr>\n",
       "      <th>47186</th>\n",
       "      <td>173981</td>\n",
       "      <td>The Haunted Castle (1897)</td>\n",
       "      <td>Horror</td>\n",
       "      <td>1897</td>\n",
       "    </tr>\n",
       "    <tr>\n",
       "      <th>48108</th>\n",
       "      <td>175977</td>\n",
       "      <td>The Devil in a Convent (1899)</td>\n",
       "      <td>Comedy|Fantasy|Horror</td>\n",
       "      <td>1899</td>\n",
       "    </tr>\n",
       "    <tr>\n",
       "      <th>61895</th>\n",
       "      <td>207199</td>\n",
       "      <td>Along Came the Devil 2</td>\n",
       "      <td>Horror|Thriller</td>\n",
       "      <td>2</td>\n",
       "    </tr>\n",
       "  </tbody>\n",
       "</table>\n",
       "</div>"
      ],
      "text/plain": [
       "       movieId                          title                          genres  \\\n",
       "27843   130322                       Zone 261                          Horror   \n",
       "43154   165397              Cinderella (1899)  Children|Fantasy|Horror|Sci-Fi   \n",
       "45958   171465      The Haunted Castle (1896)                  Fantasy|Horror   \n",
       "47158   173921        A Terrible Night (1896)                   Comedy|Horror   \n",
       "47185   173979             A Nightmare (1896)                          Horror   \n",
       "47186   173981      The Haunted Castle (1897)                          Horror   \n",
       "48108   175977  The Devil in a Convent (1899)           Comedy|Fantasy|Horror   \n",
       "61895   207199         Along Came the Devil 2                 Horror|Thriller   \n",
       "\n",
       "       year  \n",
       "27843   261  \n",
       "43154  1899  \n",
       "45958  1896  \n",
       "47158  1896  \n",
       "47185  1896  \n",
       "47186  1897  \n",
       "48108  1899  \n",
       "61895     2  "
      ]
     },
     "execution_count": 29,
     "metadata": {},
     "output_type": "execute_result"
    }
   ],
   "source": [
    "horror[horror['year'] < 1900]"
   ]
  },
  {
   "cell_type": "code",
   "execution_count": 12,
   "metadata": {},
   "outputs": [],
   "source": [
    "horror.loc[27843, ['year']] = 2016\n",
    "horror.loc[61895, ['year']] = 2019"
   ]
  },
  {
   "cell_type": "code",
   "execution_count": 13,
   "metadata": {},
   "outputs": [
    {
     "data": {
      "text/plain": [
       "1896"
      ]
     },
     "execution_count": 13,
     "metadata": {},
     "output_type": "execute_result"
    }
   ],
   "source": [
    "horror['year'].min()"
   ]
  },
  {
   "cell_type": "code",
   "execution_count": 14,
   "metadata": {},
   "outputs": [
    {
     "data": {
      "text/plain": [
       "2019"
      ]
     },
     "execution_count": 14,
     "metadata": {},
     "output_type": "execute_result"
    }
   ],
   "source": [
    "horror['year'].max()"
   ]
  },
  {
   "cell_type": "code",
   "execution_count": 15,
   "metadata": {},
   "outputs": [],
   "source": [
    "fifties = horror[horror['year'].between(1950, 1959)]\n",
    "sixties = horror[horror['year'].between(1960, 1969)]\n",
    "seventies = horror[horror['year'].between(1970, 1979)]\n",
    "eighties = horror[horror['year'].between(1980, 1989)]\n",
    "nineties = horror[horror['year'].between(1990, 1999)]\n",
    "zeros = horror[horror['year'].between(2000, 2009)]\n",
    "teens = horror[horror['year'].between(2010, 2019)]"
   ]
  },
  {
   "cell_type": "code",
   "execution_count": 16,
   "metadata": {},
   "outputs": [],
   "source": [
    "decade_data = {'Decade': ['1950s', '1960s', '1970s', '1980s', '1990s', '2000s', '2010s'],\n",
    "               'Number of Horror Films': [fifties.size, sixties.size, seventies.size, eighties.size, nineties.size, zeros.size, teens.size]    \n",
    "                }\n",
    "decade_count = pd.DataFrame(decade_data, columns = ['Decade', 'Number of Horror Films'])"
   ]
  },
  {
   "cell_type": "code",
   "execution_count": 17,
   "metadata": {},
   "outputs": [
    {
     "data": {
      "text/plain": [
       "<matplotlib.axes._subplots.AxesSubplot at 0x161018416d8>"
      ]
     },
     "execution_count": 17,
     "metadata": {},
     "output_type": "execute_result"
    },
    {
     "data": {
      "image/png": "[encoded data removed]",
      "text/plain": [
       "<Figure size 1080x720 with 1 Axes>"
      ]
     },
     "metadata": {
      "needs_background": "light"
     },
     "output_type": "display_data"
    }
   ],
   "source": [
    "%matplotlib inline\n",
    "\n",
    "decade_count.plot(kind='bar', x='Decade', y='Number of Horror Films', title='Number of Horror Films Released per Decade from the 1950s to 2010s', figsize=(15,10), grid=True)"
   ]
  },
  {
   "cell_type": "code",
   "execution_count": 18,
   "metadata": {},
   "outputs": [],
   "source": [
    "overall_fifties = movies[movies['year'].between(1950, 1959)]\n",
    "overall_sixties = movies[movies['year'].between(1960, 1969)]\n",
    "overall_seventies = movies[movies['year'].between(1970, 1979)]\n",
    "overall_eighties = movies[movies['year'].between(1980, 1989)]\n",
    "overall_nineties = movies[movies['year'].between(1990, 1999)]\n",
    "overall_zeros = movies[movies['year'].between(2000, 2009)]\n",
    "overall_teens = movies[movies['year'].between(2010, 2019)]"
   ]
  },
  {
   "cell_type": "code",
   "execution_count": 19,
   "metadata": {},
   "outputs": [],
   "source": [
    "overall_decade_data = {'Decade': ['1950s', '1960s', '1970s', '1980s', '1990s', '2000s', '2010s'],\n",
    "               'Number of Films': [overall_fifties.size, overall_sixties.size, overall_seventies.size, overall_eighties.size, overall_nineties.size, overall_zeros.size, overall_teens.size]    \n",
    "                }\n",
    "overall_decade_count = pd.DataFrame(overall_decade_data, columns = ['Decade', 'Number of Films'])"
   ]
  },
  {
   "cell_type": "code",
   "execution_count": 20,
   "metadata": {},
   "outputs": [
    {
     "data": {
      "text/plain": [
       "<matplotlib.axes._subplots.AxesSubplot at 0x16102d6a860>"
      ]
     },
     "execution_count": 20,
     "metadata": {},
     "output_type": "execute_result"
    },
    {
     "data": {
      "image/png": "[encoded data removed]",
      "text/plain": [
       "<Figure size 1080x720 with 1 Axes>"
      ]
     },
     "metadata": {
      "needs_background": "light"
     },
     "output_type": "display_data"
    }
   ],
   "source": [
    "overall_decade_count.plot(kind='bar', x='Decade', y='Number of Films', title='Number of Films Released per Decade from the 1950s to 2010s', figsize=(15,10), grid=True)"
   ]
  },
  {
   "cell_type": "code",
   "execution_count": 21,
   "metadata": {},
   "outputs": [],
   "source": [
    "horror_percentage_decade_data = {'Decade': ['1950s', '1960s', '1970s', '1980s', '1990s', '2000s', '2010s'],\n",
    "               'Percentage of Films Released that were Horror Films': [100*fifties.size/overall_fifties.size, 100*sixties.size/overall_sixties.size, 100*seventies.size/overall_seventies.size, 100*eighties.size/overall_eighties.size, 100*nineties.size/overall_nineties.size, 100*zeros.size/overall_zeros.size, 100*teens.size/overall_teens.size]    \n",
    "                }\n",
    "horror_percentage_decade_count = pd.DataFrame(horror_percentage_decade_data, columns = ['Decade', 'Percentage of Films Released that were Horror Films'])"
   ]
  },
  {
   "cell_type": "code",
   "execution_count": 22,
   "metadata": {},
   "outputs": [
    {
     "data": {
      "text/plain": [
       "<matplotlib.axes._subplots.AxesSubplot at 0x1610073eba8>"
      ]
     },
     "execution_count": 22,
     "metadata": {},
     "output_type": "execute_result"
    },
    {
     "data": {
      "image/png": "[encoded data removed]",
      "text/plain": [
       "<Figure size 1080x720 with 1 Axes>"
      ]
     },
     "metadata": {
      "needs_background": "light"
     },
     "output_type": "display_data"
    }
   ],
   "source": [
    "horror_percentage_decade_count.plot(kind='bar', x='Decade', y='Percentage of Films Released that were Horror Films', title='The Percentage of Films Released per Decade from the 1950s to 2010s that were Horror Films', figsize=(15,10), grid=True)"
   ]
  },
  {
   "cell_type": "code",
   "execution_count": null,
   "metadata": {},
   "outputs": [],
   "source": []
  }
 ],
 "metadata": {
  "kernelspec": {
   "display_name": "Python 3",
   "language": "python",
   "name": "python3"
  },
  "language_info": {
   "codemirror_mode": {
    "name": "ipython",
    "version": 3
   },
   "file_extension": ".py",
   "mimetype": "text/x-python",
   "name": "python",
   "nbconvert_exporter": "python",
   "pygments_lexer": "ipython3",
   "version": "3.7.2"
  }
 },
 "nbformat": 4,
 "nbformat_minor": 2
}
